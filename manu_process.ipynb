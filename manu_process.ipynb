{
 "cells": [
  {
   "cell_type": "markdown",
   "metadata": {},
   "source": [
    "# Multi-stage Coninuous-Flow Manufacturing Process"
   ]
  },
  {
   "cell_type": "markdown",
   "metadata": {},
   "source": [
    "## Description"
   ]
  },
  {
   "cell_type": "markdown",
   "metadata": {},
   "source": [
    "The data comes from a multi-stage continuous flow manufacturing process. In the first stage, Machines 1, 2, and 3 operate in parallel, and feed their outputs into a step that combines the flows. Output from the combiner is measured in 15 locations surrounding the outer surface of the material exiting the combiner.Next, the output flows into a second stage, where Machines 4 and 5 process in series. After Machine 5, measurements are made again in the same 15 locations surrounding the outer surface of the material exiting Machine 5."
   ]
  },
  {
   "cell_type": "markdown",
   "metadata": {},
   "source": [
    "## Data"
   ]
  },
  {
   "cell_type": "markdown",
   "metadata": {},
   "source": [
    "Description of physical setup:\t\t\n",
    "The data comes from a continuous flow process.\t\t\n",
    "Sample rate is 1 Hz.\t\t\n",
    "In the first stage, Machines 1, 2,  and 3 operate in parallel, and feed their outputs into a step that combines the flows.\t\t\n",
    "Output from the combiner is measured in 15 locations. These measurements are the primary measurements to predict.\t\t\n",
    "Next, the output flows into a second stage, where Machines 4 and 5 process in series.\t\t\n",
    "Measurements are made again in the same 15 locations. These are the secondary measurements to predict.\t\t\n",
    "\t\t\n",
    "Measurements are noisy.\t\t\n",
    "Each measurement also has a target or Setpoint (setpoints are included in the first row of data).\t\t\n",
    "The goal is to predict the measurements (or the error versus setpoints) for as many of the 15 measurements as possible.\t\t\n",
    "Some measurements will be more predictable than others!\t\t\n",
    "Prediction of measurements after the first stage are the primary interest.\t\t\n",
    "Prediction of measurements after the second stage are nice-to-have but the data is much more noisy.\t\t\n",
    "\t\t\n",
    "Note on variable naming conventions\t\t\n",
    "~.C.Setpoint\t\tSetpoint for Controlled variable\n",
    "~.C.Actual\t\tActual value of Controlled variable\n",
    "~.U.Actual\t\tActual value of Uncontrolled variable\n",
    "Others\t\tEnvironmental or raw material variables, States / events, etc.\n",
    "\t\t\n",
    "Start col\tEnd col\tDescription\n",
    "0\t0\tTime stamp\n",
    "1\t2\tFactory ambient conditions\n",
    "3\t6\tFirst stage, Machine 1, raw material properties (material going in to Machine 1)\n",
    "7\t14\tFirst stage, Machine 1 process variables\n",
    "15\t18\tFirst stage, Machine 2, raw material properties (material going in to Machine 2)\n",
    "19\t26\tFirst stage, Machine 2 process variables\n",
    "27\t30\tFirst stage, Machine 3, raw material properties (material going in to Machine 3)\n",
    "31\t38\tFirst stage, Machine 3 process variables\n",
    "39\t41\tCombiner stage process parameters. Here we combines the outputs from Machines 1, 2, and 3.\n",
    "42\t71\tPRIMARY OUTPUT TO CONTROL: Measurements of 15 features (in mm), along with setpoint or target for each\n",
    "72\t78\tSecond stage, Machine 4 process variables\n",
    "79\t85\tSecond stage, Machine 5 process variables\n",
    "86\t115\tSECONDARY OUTPUT TO CONTROL: Measurements of 15 features (in mm), along with setpoint or target for each"
   ]
  }
 ],
 "metadata": {
  "language_info": {
   "name": "python"
  }
 },
 "nbformat": 4,
 "nbformat_minor": 2
}
